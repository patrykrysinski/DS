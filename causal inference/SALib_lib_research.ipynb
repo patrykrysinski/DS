{
 "cells": [
  {
   "cell_type": "code",
   "execution_count": 1,
   "metadata": {},
   "outputs": [
    {
     "name": "stdout",
     "output_type": "stream",
     "text": [
      "Collecting SALib\n",
      "  Downloading salib-1.4.6.1-py3-none-any.whl (758 kB)\n",
      "     -------------------------------------- 758.1/758.1 kB 2.8 MB/s eta 0:00:00\n",
      "Collecting multiprocess\n",
      "  Downloading multiprocess-0.70.14-py310-none-any.whl (134 kB)\n",
      "     -------------------------------------- 134.3/134.3 kB 2.0 MB/s eta 0:00:00\n",
      "Requirement already satisfied: matplotlib>=3.2.2 in c:\\users\\paulina\\appdata\\local\\programs\\python\\python310\\lib\\site-packages (from SALib) (3.5.2)\n",
      "Requirement already satisfied: pandas>=1.1.2 in c:\\users\\paulina\\appdata\\local\\programs\\python\\python310\\lib\\site-packages (from SALib) (1.4.3)\n",
      "Requirement already satisfied: numpy>=1.20.3 in c:\\users\\paulina\\appdata\\local\\programs\\python\\python310\\lib\\site-packages (from SALib) (1.23.1)\n",
      "Requirement already satisfied: scipy>=1.7.3 in c:\\users\\paulina\\appdata\\local\\programs\\python\\python310\\lib\\site-packages (from SALib) (1.8.1)\n",
      "Requirement already satisfied: fonttools>=4.22.0 in c:\\users\\paulina\\appdata\\local\\programs\\python\\python310\\lib\\site-packages (from matplotlib>=3.2.2->SALib) (4.34.4)\n",
      "Requirement already satisfied: python-dateutil>=2.7 in c:\\users\\paulina\\appdata\\roaming\\python\\python310\\site-packages (from matplotlib>=3.2.2->SALib) (2.8.2)\n",
      "Requirement already satisfied: pyparsing>=2.2.1 in c:\\users\\paulina\\appdata\\local\\programs\\python\\python310\\lib\\site-packages (from matplotlib>=3.2.2->SALib) (3.0.9)\n",
      "Requirement already satisfied: pillow>=6.2.0 in c:\\users\\paulina\\appdata\\local\\programs\\python\\python310\\lib\\site-packages (from matplotlib>=3.2.2->SALib) (9.2.0)\n",
      "Requirement already satisfied: cycler>=0.10 in c:\\users\\paulina\\appdata\\local\\programs\\python\\python310\\lib\\site-packages (from matplotlib>=3.2.2->SALib) (0.11.0)\n",
      "Requirement already satisfied: kiwisolver>=1.0.1 in c:\\users\\paulina\\appdata\\local\\programs\\python\\python310\\lib\\site-packages (from matplotlib>=3.2.2->SALib) (1.4.3)\n",
      "Requirement already satisfied: packaging>=20.0 in c:\\users\\paulina\\appdata\\local\\programs\\python\\python310\\lib\\site-packages (from matplotlib>=3.2.2->SALib) (21.3)\n",
      "Requirement already satisfied: pytz>=2020.1 in c:\\users\\paulina\\appdata\\local\\programs\\python\\python310\\lib\\site-packages (from pandas>=1.1.2->SALib) (2022.1)\n",
      "Collecting dill>=0.3.6\n",
      "  Downloading dill-0.3.6-py3-none-any.whl (110 kB)\n",
      "     ------------------------------------ 110.5/110.5 kB 802.2 kB/s eta 0:00:00\n",
      "Requirement already satisfied: six>=1.5 in c:\\users\\paulina\\appdata\\roaming\\python\\python310\\site-packages (from python-dateutil>=2.7->matplotlib>=3.2.2->SALib) (1.16.0)\n",
      "Installing collected packages: dill, multiprocess, SALib\n",
      "Successfully installed SALib-1.4.6.1 dill-0.3.6 multiprocess-0.70.14\n",
      "Note: you may need to restart the kernel to use updated packages.\n"
     ]
    },
    {
     "name": "stderr",
     "output_type": "stream",
     "text": [
      "  WARNING: The script salib.exe is installed in 'c:\\Users\\Paulina\\AppData\\Local\\Programs\\Python\\Python310\\Scripts' which is not on PATH.\n",
      "  Consider adding this directory to PATH or, if you prefer to suppress this warning, use --no-warn-script-location.\n"
     ]
    }
   ],
   "source": [
    "pip install SALib"
   ]
  },
  {
   "cell_type": "code",
   "execution_count": 1,
   "metadata": {},
   "outputs": [
    {
     "name": "stderr",
     "output_type": "stream",
     "text": [
      "C:\\Users\\Paulina\\AppData\\Local\\Temp\\ipykernel_5248\\3717009352.py:16: DeprecationWarning: `salib.sample.saltelli` will be removed in SALib 1.5. Please use `salib.sample.sobol`\n",
      "  param_values = saltelli.sample(problem, 1024)\n"
     ]
    },
    {
     "name": "stdout",
     "output_type": "stream",
     "text": [
      "          ST   ST_conf\n",
      "x1  0.555860  0.076776\n",
      "x2  0.441898  0.045262\n",
      "x3  0.244675  0.027834\n",
      "          S1   S1_conf\n",
      "x1  0.316832  0.061722\n",
      "x2  0.443763  0.055183\n",
      "x3  0.012203  0.056989\n",
      "                S2   S2_conf\n",
      "(x1, x2)  0.009254  0.088250\n",
      "(x1, x3)  0.238172  0.106490\n",
      "(x2, x3) -0.004888  0.071599\n",
      "[0.31683154 0.44376306 0.01220312]\n"
     ]
    }
   ],
   "source": [
    "from SALib.sample import saltelli\n",
    "from SALib.analyze import sobol\n",
    "from SALib.test_functions import Ishigami\n",
    "import numpy as np\n",
    "\n",
    "# Define the model inputs\n",
    "problem = {\n",
    "    'num_vars': 3,\n",
    "    'names': ['x1', 'x2', 'x3'],\n",
    "    'bounds': [[-3.14159265359, 3.14159265359],\n",
    "               [-3.14159265359, 3.14159265359],\n",
    "               [-3.14159265359, 3.14159265359]]\n",
    "}\n",
    "\n",
    "# Generate samples\n",
    "param_values = saltelli.sample(problem, 1024)\n",
    "\n",
    "# Run model (example)\n",
    "Y = Ishigami.evaluate(param_values)\n",
    "\n",
    "# Perform analysis\n",
    "Si = sobol.analyze(problem, Y, print_to_console=True)\n",
    "\n",
    "# Print the first-order sensitivity indices\n",
    "print(Si['S1'])"
   ]
  },
  {
   "cell_type": "code",
   "execution_count": null,
   "metadata": {},
   "outputs": [],
   "source": []
  }
 ],
 "metadata": {
  "kernelspec": {
   "display_name": "Python 3",
   "language": "python",
   "name": "python3"
  },
  "language_info": {
   "codemirror_mode": {
    "name": "ipython",
    "version": 3
   },
   "file_extension": ".py",
   "mimetype": "text/x-python",
   "name": "python",
   "nbconvert_exporter": "python",
   "pygments_lexer": "ipython3",
   "version": "3.10.7 (tags/v3.10.7:6cc6b13, Sep  5 2022, 14:08:36) [MSC v.1933 64 bit (AMD64)]"
  },
  "orig_nbformat": 4,
  "vscode": {
   "interpreter": {
    "hash": "56c55f9ad07450a335c9416900c5604cd7caa387778db699d09978d0d3cda72f"
   }
  }
 },
 "nbformat": 4,
 "nbformat_minor": 2
}
