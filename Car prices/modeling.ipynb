{
 "cells": [
  {
   "cell_type": "code",
   "execution_count": 84,
   "metadata": {},
   "outputs": [],
   "source": [
    "import pandas as pd \n",
    "import numpy as np \n",
    "import os \n",
    "import matplotlib.pyplot as plt\n",
    "import seaborn as sns\n",
    "import plotly.express as px\n",
    "from functions import kaggle_download, barplot_share, info_splitter, calc_split_summary, objective\n",
    "\n",
    "from category_encoders.target_encoder import TargetEncoder\n",
    "from sklearn.preprocessing import LabelEncoder\n",
    "import lightgbm as lgb \n",
    "import optuna\n",
    "from sklearn.model_selection import train_test_split, KFold\n",
    "\n",
    "seed=123"
   ]
  },
  {
   "cell_type": "markdown",
   "metadata": {},
   "source": [
    "## Modeling - preparation\n",
    "Features chosen to modeling:\n",
    "1. Age\n",
    "2. KM's driven\n",
    "3. make_new_1 \n",
    "4. make_new_2 \n",
    "5. is_petrol\n",
    "6. Assembly\n",
    "7. registration_city\n",
    "8. Transmission\n",
    "9. Car features - these variable is already encoded to 0/1 variables.\n",
    "\n",
    "### Features encoding\n",
    "Encoding of categorical features for variables with only two possible value will be made as one hot encoding while the others (make and registration city) will be made as label encoder sorted by average price which helps decision tree based algorithm to produce smaller trees with the same accuracy."
   ]
  },
  {
   "cell_type": "code",
   "execution_count": 81,
   "metadata": {},
   "outputs": [],
   "source": [
    "data= pd.read_csv('olx_cars_adjusted.csv')"
   ]
  },
  {
   "cell_type": "code",
   "execution_count": 82,
   "metadata": {},
   "outputs": [],
   "source": [
    "data_cols_old = data.columns\n",
    "data_cols_new  = [i.replace(' ','_') for i in data_cols_old]"
   ]
  },
  {
   "cell_type": "code",
   "execution_count": 83,
   "metadata": {},
   "outputs": [],
   "source": [
    "to_change = dict(map(lambda i,j : (i,j) , data_cols_old,data_cols_new))\n",
    "data = data.rename(to_change, axis=1)"
   ]
  },
  {
   "cell_type": "code",
   "execution_count": 26,
   "metadata": {},
   "outputs": [],
   "source": [
    "cols_to_one_hot = ['is_petrol', 'Assembly', 'Transmission']\n",
    "cols_to_one_hot_enc = ['is_petrol_True', 'Assembly_Local','Transmission_Manual']\n",
    "cols_to_avg = ['make_new_1', 'make_new_2', 'registration_city']\n",
    "cols_avg_enc = [i + \"_encoded\" for i in cols_to_avg ]\n",
    "numerical_features_x =[\"KM's driven\", 'Age']\n",
    "data = pd.get_dummies(data=data, columns=cols_to_one_hot, drop_first=True)"
   ]
  },
  {
   "cell_type": "code",
   "execution_count": null,
   "metadata": {},
   "outputs": [],
   "source": [
    "data.drop('Price', axis=1)"
   ]
  },
  {
   "cell_type": "code",
   "execution_count": null,
   "metadata": {},
   "outputs": [],
   "source": [
    "train_X, test_X, train_y, test_y = train_test_split(,data['Price'], test_size=0.3, random_state=seed)"
   ]
  },
  {
   "cell_type": "code",
   "execution_count": 91,
   "metadata": {},
   "outputs": [
    {
     "data": {
      "text/plain": [
       "array([0, 1, 2, 3, 4, 5, 6, 7, 8, 9])"
      ]
     },
     "execution_count": 91,
     "metadata": {},
     "output_type": "execute_result"
    }
   ],
   "source": []
  },
  {
   "cell_type": "code",
   "execution_count": null,
   "metadata": {},
   "outputs": [],
   "source": [
    "j= 0\n",
    "for i in cols_to_avg:\n",
    "    encoding = train_X[['Price',i]].groupby(i).mean().sort_values(by='Price')\n",
    "    encoding[f'{i}_encoded'] = np.arange(0,encoding.shape[0])\n",
    "    del encoding\n",
    "    train_X = train_X"
   ]
  },
  {
   "cell_type": "code",
   "execution_count": 86,
   "metadata": {},
   "outputs": [],
   "source": [
    "\n",
    "target_mean_encoder = TargetEncoder(smoothing=0, min_samples_leaf=1)\n",
    "x_train_target_encoded = pd.DataFrame(target_mean_encoder.fit_transform(train_X[cols_to_avg], train_y).values,columns=cols_avg_enc)\n",
    "x_test_target_encoded = pd.DataFrame(target_mean_encoder.transform(test_X[cols_to_avg]).values,columns=cols_avg_enc)\n",
    "data_encoded = pd.DataFrame(target_mean_encoder.transform(test_X[cols_to_avg]).values,columns=cols_avg_enc)"
   ]
  },
  {
   "cell_type": "code",
   "execution_count": 87,
   "metadata": {},
   "outputs": [
    {
     "data": {
      "text/html": [
       "<div>\n",
       "<style scoped>\n",
       "    .dataframe tbody tr th:only-of-type {\n",
       "        vertical-align: middle;\n",
       "    }\n",
       "\n",
       "    .dataframe tbody tr th {\n",
       "        vertical-align: top;\n",
       "    }\n",
       "\n",
       "    .dataframe thead th {\n",
       "        text-align: right;\n",
       "    }\n",
       "</style>\n",
       "<table border=\"1\" class=\"dataframe\">\n",
       "  <thead>\n",
       "    <tr style=\"text-align: right;\">\n",
       "      <th></th>\n",
       "      <th>make_new_1_encoded</th>\n",
       "      <th>make_new_2_encoded</th>\n",
       "      <th>registration_city_encoded</th>\n",
       "    </tr>\n",
       "  </thead>\n",
       "  <tbody>\n",
       "    <tr>\n",
       "      <th>0</th>\n",
       "      <td>2.664544e+06</td>\n",
       "      <td>2.664544e+06</td>\n",
       "      <td>1.928731e+06</td>\n",
       "    </tr>\n",
       "    <tr>\n",
       "      <th>1</th>\n",
       "      <td>1.487175e+06</td>\n",
       "      <td>1.457657e+06</td>\n",
       "      <td>1.928731e+06</td>\n",
       "    </tr>\n",
       "    <tr>\n",
       "      <th>2</th>\n",
       "      <td>3.189804e+06</td>\n",
       "      <td>3.187199e+06</td>\n",
       "      <td>1.938703e+06</td>\n",
       "    </tr>\n",
       "    <tr>\n",
       "      <th>3</th>\n",
       "      <td>1.487175e+06</td>\n",
       "      <td>1.457657e+06</td>\n",
       "      <td>2.091037e+06</td>\n",
       "    </tr>\n",
       "    <tr>\n",
       "      <th>4</th>\n",
       "      <td>2.664544e+06</td>\n",
       "      <td>2.664544e+06</td>\n",
       "      <td>2.091037e+06</td>\n",
       "    </tr>\n",
       "  </tbody>\n",
       "</table>\n",
       "</div>"
      ],
      "text/plain": [
       "   make_new_1_encoded  make_new_2_encoded  registration_city_encoded\n",
       "0        2.664544e+06        2.664544e+06               1.928731e+06\n",
       "1        1.487175e+06        1.457657e+06               1.928731e+06\n",
       "2        3.189804e+06        3.187199e+06               1.938703e+06\n",
       "3        1.487175e+06        1.457657e+06               2.091037e+06\n",
       "4        2.664544e+06        2.664544e+06               2.091037e+06"
      ]
     },
     "execution_count": 87,
     "metadata": {},
     "output_type": "execute_result"
    }
   ],
   "source": [
    "x_train_target_encoded.head()"
   ]
  },
  {
   "cell_type": "code",
   "execution_count": 88,
   "metadata": {},
   "outputs": [],
   "source": [
    "lb = LabelEncoder()\n",
    "train_X['make_new_1_encoded'] = lb.fit_transform(x_train_target_encoded['make_new_1_encoded'])"
   ]
  },
  {
   "cell_type": "code",
   "execution_count": 90,
   "metadata": {},
   "outputs": [
    {
     "name": "stderr",
     "output_type": "stream",
     "text": [
      "C:\\Users\\Lenovo\\AppData\\Local\\Temp\\ipykernel_8028\\185340989.py:1: FutureWarning: The default value of numeric_only in DataFrameGroupBy.mean is deprecated. In a future version, numeric_only will default to False. Either specify numeric_only or select only columns which should be valid for the function.\n",
      "  train_X.groupby('make_new_1_encoded').mean()['Price']\n"
     ]
    },
    {
     "ename": "KeyError",
     "evalue": "'Price'",
     "output_type": "error",
     "traceback": [
      "\u001b[1;31m---------------------------------------------------------------------------\u001b[0m",
      "\u001b[1;31mKeyError\u001b[0m                                  Traceback (most recent call last)",
      "File \u001b[1;32mc:\\Users\\Lenovo\\AppData\\Local\\Programs\\Python\\Python311\\Lib\\site-packages\\pandas\\core\\indexes\\base.py:3803\u001b[0m, in \u001b[0;36mIndex.get_loc\u001b[1;34m(self, key, method, tolerance)\u001b[0m\n\u001b[0;32m   3802\u001b[0m \u001b[38;5;28;01mtry\u001b[39;00m:\n\u001b[1;32m-> 3803\u001b[0m     \u001b[38;5;28;01mreturn\u001b[39;00m \u001b[38;5;28;43mself\u001b[39;49m\u001b[38;5;241;43m.\u001b[39;49m\u001b[43m_engine\u001b[49m\u001b[38;5;241;43m.\u001b[39;49m\u001b[43mget_loc\u001b[49m\u001b[43m(\u001b[49m\u001b[43mcasted_key\u001b[49m\u001b[43m)\u001b[49m\n\u001b[0;32m   3804\u001b[0m \u001b[38;5;28;01mexcept\u001b[39;00m \u001b[38;5;167;01mKeyError\u001b[39;00m \u001b[38;5;28;01mas\u001b[39;00m err:\n",
      "File \u001b[1;32mc:\\Users\\Lenovo\\AppData\\Local\\Programs\\Python\\Python311\\Lib\\site-packages\\pandas\\_libs\\index.pyx:138\u001b[0m, in \u001b[0;36mpandas._libs.index.IndexEngine.get_loc\u001b[1;34m()\u001b[0m\n",
      "File \u001b[1;32mc:\\Users\\Lenovo\\AppData\\Local\\Programs\\Python\\Python311\\Lib\\site-packages\\pandas\\_libs\\index.pyx:165\u001b[0m, in \u001b[0;36mpandas._libs.index.IndexEngine.get_loc\u001b[1;34m()\u001b[0m\n",
      "File \u001b[1;32mpandas\\_libs\\hashtable_class_helper.pxi:5745\u001b[0m, in \u001b[0;36mpandas._libs.hashtable.PyObjectHashTable.get_item\u001b[1;34m()\u001b[0m\n",
      "File \u001b[1;32mpandas\\_libs\\hashtable_class_helper.pxi:5753\u001b[0m, in \u001b[0;36mpandas._libs.hashtable.PyObjectHashTable.get_item\u001b[1;34m()\u001b[0m\n",
      "\u001b[1;31mKeyError\u001b[0m: 'Price'",
      "\nThe above exception was the direct cause of the following exception:\n",
      "\u001b[1;31mKeyError\u001b[0m                                  Traceback (most recent call last)",
      "Cell \u001b[1;32mIn[90], line 1\u001b[0m\n\u001b[1;32m----> 1\u001b[0m \u001b[43mtrain_X\u001b[49m\u001b[38;5;241;43m.\u001b[39;49m\u001b[43mgroupby\u001b[49m\u001b[43m(\u001b[49m\u001b[38;5;124;43m'\u001b[39;49m\u001b[38;5;124;43mmake_new_1_encoded\u001b[39;49m\u001b[38;5;124;43m'\u001b[39;49m\u001b[43m)\u001b[49m\u001b[38;5;241;43m.\u001b[39;49m\u001b[43mmean\u001b[49m\u001b[43m(\u001b[49m\u001b[43m)\u001b[49m\u001b[43m[\u001b[49m\u001b[38;5;124;43m'\u001b[39;49m\u001b[38;5;124;43mPrice\u001b[39;49m\u001b[38;5;124;43m'\u001b[39;49m\u001b[43m]\u001b[49m\n",
      "File \u001b[1;32mc:\\Users\\Lenovo\\AppData\\Local\\Programs\\Python\\Python311\\Lib\\site-packages\\pandas\\core\\frame.py:3805\u001b[0m, in \u001b[0;36mDataFrame.__getitem__\u001b[1;34m(self, key)\u001b[0m\n\u001b[0;32m   3803\u001b[0m \u001b[38;5;28;01mif\u001b[39;00m \u001b[38;5;28mself\u001b[39m\u001b[38;5;241m.\u001b[39mcolumns\u001b[38;5;241m.\u001b[39mnlevels \u001b[38;5;241m>\u001b[39m \u001b[38;5;241m1\u001b[39m:\n\u001b[0;32m   3804\u001b[0m     \u001b[38;5;28;01mreturn\u001b[39;00m \u001b[38;5;28mself\u001b[39m\u001b[38;5;241m.\u001b[39m_getitem_multilevel(key)\n\u001b[1;32m-> 3805\u001b[0m indexer \u001b[38;5;241m=\u001b[39m \u001b[38;5;28;43mself\u001b[39;49m\u001b[38;5;241;43m.\u001b[39;49m\u001b[43mcolumns\u001b[49m\u001b[38;5;241;43m.\u001b[39;49m\u001b[43mget_loc\u001b[49m\u001b[43m(\u001b[49m\u001b[43mkey\u001b[49m\u001b[43m)\u001b[49m\n\u001b[0;32m   3806\u001b[0m \u001b[38;5;28;01mif\u001b[39;00m is_integer(indexer):\n\u001b[0;32m   3807\u001b[0m     indexer \u001b[38;5;241m=\u001b[39m [indexer]\n",
      "File \u001b[1;32mc:\\Users\\Lenovo\\AppData\\Local\\Programs\\Python\\Python311\\Lib\\site-packages\\pandas\\core\\indexes\\base.py:3805\u001b[0m, in \u001b[0;36mIndex.get_loc\u001b[1;34m(self, key, method, tolerance)\u001b[0m\n\u001b[0;32m   3803\u001b[0m     \u001b[38;5;28;01mreturn\u001b[39;00m \u001b[38;5;28mself\u001b[39m\u001b[38;5;241m.\u001b[39m_engine\u001b[38;5;241m.\u001b[39mget_loc(casted_key)\n\u001b[0;32m   3804\u001b[0m \u001b[38;5;28;01mexcept\u001b[39;00m \u001b[38;5;167;01mKeyError\u001b[39;00m \u001b[38;5;28;01mas\u001b[39;00m err:\n\u001b[1;32m-> 3805\u001b[0m     \u001b[38;5;28;01mraise\u001b[39;00m \u001b[38;5;167;01mKeyError\u001b[39;00m(key) \u001b[38;5;28;01mfrom\u001b[39;00m \u001b[38;5;21;01merr\u001b[39;00m\n\u001b[0;32m   3806\u001b[0m \u001b[38;5;28;01mexcept\u001b[39;00m \u001b[38;5;167;01mTypeError\u001b[39;00m:\n\u001b[0;32m   3807\u001b[0m     \u001b[38;5;66;03m# If we have a listlike key, _check_indexing_error will raise\u001b[39;00m\n\u001b[0;32m   3808\u001b[0m     \u001b[38;5;66;03m#  InvalidIndexError. Otherwise we fall through and re-raise\u001b[39;00m\n\u001b[0;32m   3809\u001b[0m     \u001b[38;5;66;03m#  the TypeError.\u001b[39;00m\n\u001b[0;32m   3810\u001b[0m     \u001b[38;5;28mself\u001b[39m\u001b[38;5;241m.\u001b[39m_check_indexing_error(key)\n",
      "\u001b[1;31mKeyError\u001b[0m: 'Price'"
     ]
    }
   ],
   "source": [
    "train_X.groupby('make_new_1_encoded').mean()['Price']"
   ]
  },
  {
   "cell_type": "code",
   "execution_count": 28,
   "metadata": {},
   "outputs": [],
   "source": [
    "train_X = train_X.join(x_train_target_encoded)\n",
    "test_X = test_X.join(x_test_target_encoded)"
   ]
  },
  {
   "cell_type": "code",
   "execution_count": 29,
   "metadata": {},
   "outputs": [],
   "source": [
    "all_features = ['USB and Auxillary Cable',\n",
    " 'AM/FM Radio',\n",
    " 'Heated Seats',\n",
    " 'ABS',\n",
    " 'Power Steering',\n",
    " 'Rear Camera',\n",
    " 'Climate Control',\n",
    " 'Power Windows',\n",
    " 'DVD Player',\n",
    " 'Cool Box',\n",
    " 'Keyless Entry',\n",
    " 'Air Conditioning',\n",
    " 'Rear Seat Entertainment',\n",
    " 'Immobilizer Key',\n",
    " 'Power Locks',\n",
    " 'Sun Roof',\n",
    " 'Cruise Control',\n",
    " 'Air Bags',\n",
    " 'Front Speakers',\n",
    " 'CD Player',\n",
    " 'Power Mirrors',\n",
    " 'Rear speakers',\n",
    " 'Steering Switches',\n",
    " 'Front Camera',\n",
    " 'Rear AC Vents',\n",
    " 'Cassette Player',\n",
    " 'Navigation System',\n",
    " 'Alloy Rims']"
   ]
  },
  {
   "cell_type": "code",
   "execution_count": 30,
   "metadata": {},
   "outputs": [],
   "source": [
    "final_models_feature = []\n",
    "final_models_feature.extend(numerical_features_x)\n",
    "final_models_feature.extend(cols_avg_enc)\n",
    "final_models_feature.extend(all_features)\n",
    "final_models_feature.extend(cols_to_one_hot_enc)"
   ]
  },
  {
   "cell_type": "code",
   "execution_count": 31,
   "metadata": {},
   "outputs": [],
   "source": [
    "categorical_features = []\n",
    "categorical_features.extend(cols_avg_enc)\n",
    "categorical_features.extend(all_features)\n",
    "categorical_features.extend(cols_to_one_hot_enc)"
   ]
  },
  {
   "cell_type": "code",
   "execution_count": 42,
   "metadata": {},
   "outputs": [],
   "source": [
    "train_lgb = lgb.Dataset(data=train_X[final_models_feature], label=train_y)"
   ]
  },
  {
   "cell_type": "code",
   "execution_count": 33,
   "metadata": {},
   "outputs": [
    {
     "name": "stderr",
     "output_type": "stream",
     "text": [
      "\u001b[32m[I 2024-01-07 18:34:57,414]\u001b[0m A new study created in memory with name: no-name-303a1ed7-59f8-4b19-806e-b16ab0ef589f\u001b[0m\n"
     ]
    }
   ],
   "source": [
    "study = optuna.create_study(direction='minimize')"
   ]
  },
  {
   "cell_type": "code",
   "execution_count": null,
   "metadata": {},
   "outputs": [],
   "source": [
    "study.best_params"
   ]
  },
  {
   "cell_type": "code",
   "execution_count": null,
   "metadata": {},
   "outputs": [],
   "source": [
    "study.optimize(lambda trial: objective(trial,train_x=train_X,obj='rmse', train_y=train_y,seed=seed,numerical_features=numerical_features_x,\n",
    "                                       cat_features=categorical_features), n_trials=20)"
   ]
  },
  {
   "cell_type": "code",
   "execution_count": 36,
   "metadata": {},
   "outputs": [
    {
     "data": {
      "text/plain": [
       "{'boosting': 'gbdt',\n",
       " 'num_iterations': 64,\n",
       " 'learning_rate': 0.22816688655399328,\n",
       " 'max_depth': 10,\n",
       " 'min_data_in_leaf': 50,\n",
       " 'bagging_fraction': 0.46874741557677346,\n",
       " 'lambda_l1': 4.902574676858617,\n",
       " 'lambda_l2': 1.1860734255180363,\n",
       " 'linear_lambda': 7.937337911508984,\n",
       " 'min_gain_to_split': 8.122584161347834}"
      ]
     },
     "execution_count": 36,
     "metadata": {},
     "output_type": "execute_result"
    }
   ],
   "source": [
    "study.best_params"
   ]
  },
  {
   "cell_type": "code",
   "execution_count": 44,
   "metadata": {},
   "outputs": [
    {
     "name": "stderr",
     "output_type": "stream",
     "text": [
      "c:\\Users\\Lenovo\\AppData\\Local\\Programs\\Python\\Python311\\Lib\\site-packages\\lightgbm\\engine.py:685: UserWarning: Found 'num_iterations' in params. Will use it instead of 'num_boost_round' argument\n",
      "  _log_warning(f\"Found '{alias}' in params. Will use it instead of 'num_boost_round' argument\")\n",
      "c:\\Users\\Lenovo\\AppData\\Local\\Programs\\Python\\Python311\\Lib\\site-packages\\sklearn\\model_selection\\_split.py:700: UserWarning: The least populated class in y has only 1 members, which is less than n_splits=3.\n",
      "  warnings.warn(\n"
     ]
    },
    {
     "name": "stdout",
     "output_type": "stream",
     "text": [
      "[LightGBM] [Warning] Accuracy may be bad since you didn't explicitly set num_leaves OR 2^max_depth > num_leaves. (num_leaves=31).\n",
      "[LightGBM] [Warning] Found whitespace in feature_names, replace with underlines\n",
      "[LightGBM] [Warning] Accuracy may be bad since you didn't explicitly set num_leaves OR 2^max_depth > num_leaves. (num_leaves=31).\n",
      "[LightGBM] [Warning] Accuracy may be bad since you didn't explicitly set num_leaves OR 2^max_depth > num_leaves. (num_leaves=31).\n",
      "[LightGBM] [Info] Auto-choosing row-wise multi-threading, the overhead of testing was 0.023081 seconds.\n",
      "You can set `force_row_wise=true` to remove the overhead.\n",
      "And if memory is not enough, you can set `force_col_wise=true`.\n",
      "[LightGBM] [Info] Total Bins 365\n",
      "[LightGBM] [Info] Number of data points in the train set: 4069, number of used features: 36\n",
      "[LightGBM] [Warning] Accuracy may be bad since you didn't explicitly set num_leaves OR 2^max_depth > num_leaves. (num_leaves=31).\n",
      "[LightGBM] [Warning] Accuracy may be bad since you didn't explicitly set num_leaves OR 2^max_depth > num_leaves. (num_leaves=31).\n",
      "[LightGBM] [Warning] Accuracy may be bad since you didn't explicitly set num_leaves OR 2^max_depth > num_leaves. (num_leaves=31).\n",
      "[LightGBM] [Info] Auto-choosing row-wise multi-threading, the overhead of testing was 0.001362 seconds.\n",
      "You can set `force_row_wise=true` to remove the overhead.\n",
      "And if memory is not enough, you can set `force_col_wise=true`.\n",
      "[LightGBM] [Info] Total Bins 365\n",
      "[LightGBM] [Info] Number of data points in the train set: 4069, number of used features: 36\n",
      "[LightGBM] [Warning] Accuracy may be bad since you didn't explicitly set num_leaves OR 2^max_depth > num_leaves. (num_leaves=31).\n",
      "[LightGBM] [Warning] Accuracy may be bad since you didn't explicitly set num_leaves OR 2^max_depth > num_leaves. (num_leaves=31).\n",
      "[LightGBM] [Warning] Accuracy may be bad since you didn't explicitly set num_leaves OR 2^max_depth > num_leaves. (num_leaves=31).\n",
      "[LightGBM] [Info] Auto-choosing row-wise multi-threading, the overhead of testing was 0.001521 seconds.\n",
      "You can set `force_row_wise=true` to remove the overhead.\n",
      "And if memory is not enough, you can set `force_col_wise=true`.\n",
      "[LightGBM] [Info] Total Bins 365\n",
      "[LightGBM] [Info] Number of data points in the train set: 4070, number of used features: 36\n",
      "[LightGBM] [Warning] Accuracy may be bad since you didn't explicitly set num_leaves OR 2^max_depth > num_leaves. (num_leaves=31).\n",
      "[LightGBM] [Info] Start training from score 2111732.916196\n",
      "[LightGBM] [Info] Start training from score 2114925.875645\n",
      "[LightGBM] [Info] Start training from score 2111267.724816\n",
      "[LightGBM] [Warning] No further splits with positive gain, best gain: -inf\n",
      "[LightGBM] [Warning] No further splits with positive gain, best gain: -inf\n",
      "[LightGBM] [Warning] No further splits with positive gain, best gain: -inf\n",
      "[LightGBM] [Warning] No further splits with positive gain, best gain: -inf\n",
      "[LightGBM] [Warning] No further splits with positive gain, best gain: -inf\n",
      "[LightGBM] [Warning] No further splits with positive gain, best gain: -inf\n",
      "[LightGBM] [Warning] No further splits with positive gain, best gain: -inf\n",
      "[LightGBM] [Warning] No further splits with positive gain, best gain: -inf\n",
      "[LightGBM] [Warning] No further splits with positive gain, best gain: -inf\n",
      "[LightGBM] [Warning] No further splits with positive gain, best gain: -inf\n",
      "[LightGBM] [Warning] No further splits with positive gain, best gain: -inf\n",
      "[LightGBM] [Warning] No further splits with positive gain, best gain: -inf\n",
      "[LightGBM] [Warning] No further splits with positive gain, best gain: -inf\n",
      "[LightGBM] [Warning] No further splits with positive gain, best gain: -inf\n",
      "[LightGBM] [Warning] No further splits with positive gain, best gain: -inf\n",
      "[LightGBM] [Warning] No further splits with positive gain, best gain: -inf\n",
      "[LightGBM] [Warning] No further splits with positive gain, best gain: -inf\n",
      "[LightGBM] [Warning] No further splits with positive gain, best gain: -inf\n",
      "[LightGBM] [Warning] No further splits with positive gain, best gain: -inf\n",
      "[LightGBM] [Warning] No further splits with positive gain, best gain: -inf\n",
      "[LightGBM] [Warning] No further splits with positive gain, best gain: -inf\n",
      "[LightGBM] [Warning] No further splits with positive gain, best gain: -inf\n",
      "[LightGBM] [Warning] No further splits with positive gain, best gain: -inf\n",
      "[LightGBM] [Warning] No further splits with positive gain, best gain: -inf\n",
      "[LightGBM] [Warning] No further splits with positive gain, best gain: -inf\n",
      "[LightGBM] [Warning] No further splits with positive gain, best gain: -inf\n",
      "[LightGBM] [Warning] No further splits with positive gain, best gain: -inf\n",
      "[LightGBM] [Warning] No further splits with positive gain, best gain: -inf\n",
      "[LightGBM] [Warning] No further splits with positive gain, best gain: -inf\n",
      "[LightGBM] [Warning] No further splits with positive gain, best gain: -inf\n"
     ]
    }
   ],
   "source": [
    "final_model = lgb.cv(params=study.best_params,\n",
    "                    train_set=train_lgb, \n",
    "                   nfold=3,\n",
    "                   seed=seed,\n",
    "                   metrics='rmse',\n",
    "                   return_cvbooster=True)"
   ]
  },
  {
   "cell_type": "code",
   "execution_count": 38,
   "metadata": {},
   "outputs": [],
   "source": [
    "from sklearn.metrics import r2_score"
   ]
  },
  {
   "cell_type": "code",
   "execution_count": 59,
   "metadata": {},
   "outputs": [],
   "source": [
    "m0 = final_model['cvbooster'].boosters[0]\n",
    "final_features = m0.feature_name()"
   ]
  },
  {
   "cell_type": "code",
   "execution_count": 66,
   "metadata": {},
   "outputs": [],
   "source": [
    "all_featrues_new = [i.replace(' ','_') for i in all_features]"
   ]
  },
  {
   "cell_type": "code",
   "execution_count": 74,
   "metadata": {},
   "outputs": [],
   "source": [
    "dd = dict(keys = all_features, values = all_featrues_new)"
   ]
  },
  {
   "cell_type": "code",
   "execution_count": 76,
   "metadata": {},
   "outputs": [],
   "source": []
  },
  {
   "cell_type": "code",
   "execution_count": 77,
   "metadata": {},
   "outputs": [
    {
     "data": {
      "text/plain": [
       "'USB_and_Auxillary_Cable'"
      ]
     },
     "execution_count": 77,
     "metadata": {},
     "output_type": "execute_result"
    }
   ],
   "source": [
    "res['USB and Auxillary Cable']"
   ]
  },
  {
   "cell_type": "code",
   "execution_count": 79,
   "metadata": {},
   "outputs": [
    {
     "data": {
      "text/html": [
       "<div>\n",
       "<style scoped>\n",
       "    .dataframe tbody tr th:only-of-type {\n",
       "        vertical-align: middle;\n",
       "    }\n",
       "\n",
       "    .dataframe tbody tr th {\n",
       "        vertical-align: top;\n",
       "    }\n",
       "\n",
       "    .dataframe thead th {\n",
       "        text-align: right;\n",
       "    }\n",
       "</style>\n",
       "<table border=\"1\" class=\"dataframe\">\n",
       "  <thead>\n",
       "    <tr style=\"text-align: right;\">\n",
       "      <th></th>\n",
       "      <th>Unnamed: 0</th>\n",
       "      <th>Ad ID</th>\n",
       "      <th>Car Name</th>\n",
       "      <th>Make</th>\n",
       "      <th>Model</th>\n",
       "      <th>Year</th>\n",
       "      <th>KM's driven</th>\n",
       "      <th>Price</th>\n",
       "      <th>Fuel</th>\n",
       "      <th>Registration city</th>\n",
       "      <th>...</th>\n",
       "      <th>Rear_speakers</th>\n",
       "      <th>Steering_Switches</th>\n",
       "      <th>Front_Camera</th>\n",
       "      <th>Rear_AC_Vents</th>\n",
       "      <th>Cassette_Player</th>\n",
       "      <th>Navigation_System</th>\n",
       "      <th>Alloy_Rims</th>\n",
       "      <th>is_petrol_True</th>\n",
       "      <th>Assembly_Local</th>\n",
       "      <th>Transmission_Manual</th>\n",
       "    </tr>\n",
       "  </thead>\n",
       "  <tbody>\n",
       "    <tr>\n",
       "      <th>0</th>\n",
       "      <td>0</td>\n",
       "      <td>1080434207</td>\n",
       "      <td>Changan Alsvin 1.5 Lumiere</td>\n",
       "      <td>Changan</td>\n",
       "      <td>Alsvin</td>\n",
       "      <td>2022</td>\n",
       "      <td>8500</td>\n",
       "      <td>4200000</td>\n",
       "      <td>Petrol</td>\n",
       "      <td>Lahore</td>\n",
       "      <td>...</td>\n",
       "      <td>1.0</td>\n",
       "      <td>1.0</td>\n",
       "      <td>0.0</td>\n",
       "      <td>0.0</td>\n",
       "      <td>0.0</td>\n",
       "      <td>0.0</td>\n",
       "      <td>1.0</td>\n",
       "      <td>1</td>\n",
       "      <td>1</td>\n",
       "      <td>0</td>\n",
       "    </tr>\n",
       "    <tr>\n",
       "      <th>1</th>\n",
       "      <td>1</td>\n",
       "      <td>1080155972</td>\n",
       "      <td>Changan alsvin lumiere 2022 Model</td>\n",
       "      <td>Changan</td>\n",
       "      <td>Alsvin</td>\n",
       "      <td>2022</td>\n",
       "      <td>2200</td>\n",
       "      <td>4100000</td>\n",
       "      <td>Petrol</td>\n",
       "      <td>Lahore</td>\n",
       "      <td>...</td>\n",
       "      <td>1.0</td>\n",
       "      <td>1.0</td>\n",
       "      <td>0.0</td>\n",
       "      <td>1.0</td>\n",
       "      <td>0.0</td>\n",
       "      <td>0.0</td>\n",
       "      <td>1.0</td>\n",
       "      <td>1</td>\n",
       "      <td>1</td>\n",
       "      <td>0</td>\n",
       "    </tr>\n",
       "    <tr>\n",
       "      <th>2</th>\n",
       "      <td>2</td>\n",
       "      <td>1080646142</td>\n",
       "      <td>chang an Alsvin Lumiere</td>\n",
       "      <td>Changan</td>\n",
       "      <td>Alsvin</td>\n",
       "      <td>2021</td>\n",
       "      <td>17000</td>\n",
       "      <td>3950000</td>\n",
       "      <td>Petrol</td>\n",
       "      <td>Punjab</td>\n",
       "      <td>...</td>\n",
       "      <td>1.0</td>\n",
       "      <td>1.0</td>\n",
       "      <td>0.0</td>\n",
       "      <td>1.0</td>\n",
       "      <td>1.0</td>\n",
       "      <td>0.0</td>\n",
       "      <td>1.0</td>\n",
       "      <td>1</td>\n",
       "      <td>1</td>\n",
       "      <td>0</td>\n",
       "    </tr>\n",
       "    <tr>\n",
       "      <th>3</th>\n",
       "      <td>3</td>\n",
       "      <td>1080491687</td>\n",
       "      <td>Changan alsvin Lumiere 2022</td>\n",
       "      <td>Changan</td>\n",
       "      <td>Alsvin</td>\n",
       "      <td>2022</td>\n",
       "      <td>15000</td>\n",
       "      <td>3785000</td>\n",
       "      <td>Petrol</td>\n",
       "      <td>Punjab</td>\n",
       "      <td>...</td>\n",
       "      <td>1.0</td>\n",
       "      <td>0.0</td>\n",
       "      <td>0.0</td>\n",
       "      <td>0.0</td>\n",
       "      <td>1.0</td>\n",
       "      <td>0.0</td>\n",
       "      <td>1.0</td>\n",
       "      <td>1</td>\n",
       "      <td>1</td>\n",
       "      <td>1</td>\n",
       "    </tr>\n",
       "    <tr>\n",
       "      <th>4</th>\n",
       "      <td>4</td>\n",
       "      <td>1080971973</td>\n",
       "      <td>Alsvin Lumeire Model 2022 - Urgent Sale</td>\n",
       "      <td>Changan</td>\n",
       "      <td>Alsvin</td>\n",
       "      <td>2022</td>\n",
       "      <td>27000</td>\n",
       "      <td>4075000</td>\n",
       "      <td>Petrol</td>\n",
       "      <td>Islamabad</td>\n",
       "      <td>...</td>\n",
       "      <td>1.0</td>\n",
       "      <td>1.0</td>\n",
       "      <td>1.0</td>\n",
       "      <td>1.0</td>\n",
       "      <td>0.0</td>\n",
       "      <td>0.0</td>\n",
       "      <td>1.0</td>\n",
       "      <td>1</td>\n",
       "      <td>1</td>\n",
       "      <td>0</td>\n",
       "    </tr>\n",
       "    <tr>\n",
       "      <th>...</th>\n",
       "      <td>...</td>\n",
       "      <td>...</td>\n",
       "      <td>...</td>\n",
       "      <td>...</td>\n",
       "      <td>...</td>\n",
       "      <td>...</td>\n",
       "      <td>...</td>\n",
       "      <td>...</td>\n",
       "      <td>...</td>\n",
       "      <td>...</td>\n",
       "      <td>...</td>\n",
       "      <td>...</td>\n",
       "      <td>...</td>\n",
       "      <td>...</td>\n",
       "      <td>...</td>\n",
       "      <td>...</td>\n",
       "      <td>...</td>\n",
       "      <td>...</td>\n",
       "      <td>...</td>\n",
       "      <td>...</td>\n",
       "      <td>...</td>\n",
       "    </tr>\n",
       "    <tr>\n",
       "      <th>8716</th>\n",
       "      <td>8716</td>\n",
       "      <td>1078453186</td>\n",
       "      <td>toyota yaris October 2020 Islamabad Registered</td>\n",
       "      <td>Toyota</td>\n",
       "      <td>Yaris</td>\n",
       "      <td>2020</td>\n",
       "      <td>54000</td>\n",
       "      <td>4500000</td>\n",
       "      <td>Petrol</td>\n",
       "      <td>Islamabad</td>\n",
       "      <td>...</td>\n",
       "      <td>1.0</td>\n",
       "      <td>0.0</td>\n",
       "      <td>0.0</td>\n",
       "      <td>1.0</td>\n",
       "      <td>0.0</td>\n",
       "      <td>1.0</td>\n",
       "      <td>1.0</td>\n",
       "      <td>1</td>\n",
       "      <td>1</td>\n",
       "      <td>0</td>\n",
       "    </tr>\n",
       "    <tr>\n",
       "      <th>8717</th>\n",
       "      <td>8717</td>\n",
       "      <td>1071092728</td>\n",
       "      <td>Toyota Yaris</td>\n",
       "      <td>Toyota</td>\n",
       "      <td>Yaris</td>\n",
       "      <td>2021</td>\n",
       "      <td>18500</td>\n",
       "      <td>4050000</td>\n",
       "      <td>Petrol</td>\n",
       "      <td>Punjab</td>\n",
       "      <td>...</td>\n",
       "      <td>0.0</td>\n",
       "      <td>0.0</td>\n",
       "      <td>1.0</td>\n",
       "      <td>0.0</td>\n",
       "      <td>0.0</td>\n",
       "      <td>1.0</td>\n",
       "      <td>0.0</td>\n",
       "      <td>1</td>\n",
       "      <td>1</td>\n",
       "      <td>1</td>\n",
       "    </tr>\n",
       "    <tr>\n",
       "      <th>8718</th>\n",
       "      <td>8718</td>\n",
       "      <td>1075869467</td>\n",
       "      <td>Yaris 1.3 ATIV CVT 2022</td>\n",
       "      <td>Toyota</td>\n",
       "      <td>Yaris</td>\n",
       "      <td>2022</td>\n",
       "      <td>12000</td>\n",
       "      <td>4700000</td>\n",
       "      <td>Petrol</td>\n",
       "      <td>Punjab</td>\n",
       "      <td>...</td>\n",
       "      <td>0.0</td>\n",
       "      <td>1.0</td>\n",
       "      <td>0.0</td>\n",
       "      <td>0.0</td>\n",
       "      <td>0.0</td>\n",
       "      <td>0.0</td>\n",
       "      <td>1.0</td>\n",
       "      <td>1</td>\n",
       "      <td>1</td>\n",
       "      <td>0</td>\n",
       "    </tr>\n",
       "    <tr>\n",
       "      <th>8719</th>\n",
       "      <td>8719</td>\n",
       "      <td>1079723349</td>\n",
       "      <td>Toyota Yaris ATIV CVT for sale Lady Doctor pro...</td>\n",
       "      <td>Toyota</td>\n",
       "      <td>Yaris</td>\n",
       "      <td>2020</td>\n",
       "      <td>55000</td>\n",
       "      <td>3900000</td>\n",
       "      <td>Petrol</td>\n",
       "      <td>Karachi</td>\n",
       "      <td>...</td>\n",
       "      <td>1.0</td>\n",
       "      <td>1.0</td>\n",
       "      <td>0.0</td>\n",
       "      <td>0.0</td>\n",
       "      <td>1.0</td>\n",
       "      <td>0.0</td>\n",
       "      <td>1.0</td>\n",
       "      <td>1</td>\n",
       "      <td>1</td>\n",
       "      <td>0</td>\n",
       "    </tr>\n",
       "    <tr>\n",
       "      <th>8720</th>\n",
       "      <td>8720</td>\n",
       "      <td>1079037799</td>\n",
       "      <td>Yaris 2021</td>\n",
       "      <td>Toyota</td>\n",
       "      <td>Yaris</td>\n",
       "      <td>2021</td>\n",
       "      <td>31000</td>\n",
       "      <td>4345000</td>\n",
       "      <td>Petrol</td>\n",
       "      <td>Karachi</td>\n",
       "      <td>...</td>\n",
       "      <td>0.0</td>\n",
       "      <td>0.0</td>\n",
       "      <td>0.0</td>\n",
       "      <td>0.0</td>\n",
       "      <td>0.0</td>\n",
       "      <td>0.0</td>\n",
       "      <td>1.0</td>\n",
       "      <td>1</td>\n",
       "      <td>1</td>\n",
       "      <td>0</td>\n",
       "    </tr>\n",
       "  </tbody>\n",
       "</table>\n",
       "<p>8721 rows × 52 columns</p>\n",
       "</div>"
      ],
      "text/plain": [
       "      Unnamed: 0       Ad ID  \\\n",
       "0              0  1080434207   \n",
       "1              1  1080155972   \n",
       "2              2  1080646142   \n",
       "3              3  1080491687   \n",
       "4              4  1080971973   \n",
       "...          ...         ...   \n",
       "8716        8716  1078453186   \n",
       "8717        8717  1071092728   \n",
       "8718        8718  1075869467   \n",
       "8719        8719  1079723349   \n",
       "8720        8720  1079037799   \n",
       "\n",
       "                                               Car Name     Make   Model  \\\n",
       "0                            Changan Alsvin 1.5 Lumiere  Changan  Alsvin   \n",
       "1                     Changan alsvin lumiere 2022 Model  Changan  Alsvin   \n",
       "2                               chang an Alsvin Lumiere  Changan  Alsvin   \n",
       "3                           Changan alsvin Lumiere 2022  Changan  Alsvin   \n",
       "4               Alsvin Lumeire Model 2022 - Urgent Sale  Changan  Alsvin   \n",
       "...                                                 ...      ...     ...   \n",
       "8716     toyota yaris October 2020 Islamabad Registered   Toyota   Yaris   \n",
       "8717                                       Toyota Yaris   Toyota   Yaris   \n",
       "8718                            Yaris 1.3 ATIV CVT 2022   Toyota   Yaris   \n",
       "8719  Toyota Yaris ATIV CVT for sale Lady Doctor pro...   Toyota   Yaris   \n",
       "8720                                         Yaris 2021   Toyota   Yaris   \n",
       "\n",
       "      Year  KM's driven    Price    Fuel Registration city  ... Rear_speakers  \\\n",
       "0     2022         8500  4200000  Petrol            Lahore  ...           1.0   \n",
       "1     2022         2200  4100000  Petrol            Lahore  ...           1.0   \n",
       "2     2021        17000  3950000  Petrol            Punjab  ...           1.0   \n",
       "3     2022        15000  3785000  Petrol            Punjab  ...           1.0   \n",
       "4     2022        27000  4075000  Petrol         Islamabad  ...           1.0   \n",
       "...    ...          ...      ...     ...               ...  ...           ...   \n",
       "8716  2020        54000  4500000  Petrol         Islamabad  ...           1.0   \n",
       "8717  2021        18500  4050000  Petrol            Punjab  ...           0.0   \n",
       "8718  2022        12000  4700000  Petrol            Punjab  ...           0.0   \n",
       "8719  2020        55000  3900000  Petrol           Karachi  ...           1.0   \n",
       "8720  2021        31000  4345000  Petrol           Karachi  ...           0.0   \n",
       "\n",
       "     Steering_Switches Front_Camera Rear_AC_Vents Cassette_Player  \\\n",
       "0                  1.0          0.0           0.0             0.0   \n",
       "1                  1.0          0.0           1.0             0.0   \n",
       "2                  1.0          0.0           1.0             1.0   \n",
       "3                  0.0          0.0           0.0             1.0   \n",
       "4                  1.0          1.0           1.0             0.0   \n",
       "...                ...          ...           ...             ...   \n",
       "8716               0.0          0.0           1.0             0.0   \n",
       "8717               0.0          1.0           0.0             0.0   \n",
       "8718               1.0          0.0           0.0             0.0   \n",
       "8719               1.0          0.0           0.0             1.0   \n",
       "8720               0.0          0.0           0.0             0.0   \n",
       "\n",
       "     Navigation_System Alloy_Rims  is_petrol_True Assembly_Local  \\\n",
       "0                  0.0        1.0               1              1   \n",
       "1                  0.0        1.0               1              1   \n",
       "2                  0.0        1.0               1              1   \n",
       "3                  0.0        1.0               1              1   \n",
       "4                  0.0        1.0               1              1   \n",
       "...                ...        ...             ...            ...   \n",
       "8716               1.0        1.0               1              1   \n",
       "8717               1.0        0.0               1              1   \n",
       "8718               0.0        1.0               1              1   \n",
       "8719               0.0        1.0               1              1   \n",
       "8720               0.0        1.0               1              1   \n",
       "\n",
       "     Transmission_Manual  \n",
       "0                      0  \n",
       "1                      0  \n",
       "2                      0  \n",
       "3                      1  \n",
       "4                      0  \n",
       "...                  ...  \n",
       "8716                   0  \n",
       "8717                   1  \n",
       "8718                   0  \n",
       "8719                   0  \n",
       "8720                   0  \n",
       "\n",
       "[8721 rows x 52 columns]"
      ]
     },
     "execution_count": 79,
     "metadata": {},
     "output_type": "execute_result"
    }
   ],
   "source": []
  },
  {
   "cell_type": "code",
   "execution_count": 67,
   "metadata": {},
   "outputs": [
    {
     "data": {
      "text/plain": [
       "['USB_and_Auxillary_Cable',\n",
       " 'AM/FM_Radio',\n",
       " 'Heated_Seats',\n",
       " 'ABS',\n",
       " 'Power_Steering',\n",
       " 'Rear_Camera',\n",
       " 'Climate_Control',\n",
       " 'Power_Windows',\n",
       " 'DVD_Player',\n",
       " 'Cool_Box',\n",
       " 'Keyless_Entry',\n",
       " 'Air_Conditioning',\n",
       " 'Rear_Seat_Entertainment',\n",
       " 'Immobilizer_Key',\n",
       " 'Power_Locks',\n",
       " 'Sun_Roof',\n",
       " 'Cruise_Control',\n",
       " 'Air_Bags',\n",
       " 'Front_Speakers',\n",
       " 'CD_Player',\n",
       " 'Power_Mirrors',\n",
       " 'Rear_speakers',\n",
       " 'Steering_Switches',\n",
       " 'Front_Camera',\n",
       " 'Rear_AC_Vents',\n",
       " 'Cassette_Player',\n",
       " 'Navigation_System',\n",
       " 'Alloy_Rims']"
      ]
     },
     "execution_count": 67,
     "metadata": {},
     "output_type": "execute_result"
    }
   ],
   "source": [
    "all_featrues_new"
   ]
  },
  {
   "cell_type": "code",
   "execution_count": 65,
   "metadata": {},
   "outputs": [
    {
     "data": {
      "text/plain": [
       "'USB_and_Auxillary_Cable'"
      ]
     },
     "execution_count": 65,
     "metadata": {},
     "output_type": "execute_result"
    }
   ],
   "source": [
    "all_features[0].replace(' ', '_')"
   ]
  },
  {
   "cell_type": "code",
   "execution_count": 63,
   "metadata": {},
   "outputs": [
    {
     "data": {
      "text/plain": [
       "['USB and Auxillary Cable',\n",
       " 'AM/FM Radio',\n",
       " 'Heated Seats',\n",
       " 'ABS',\n",
       " 'Power Steering',\n",
       " 'Rear Camera',\n",
       " 'Climate Control',\n",
       " 'Power Windows',\n",
       " 'DVD Player',\n",
       " 'Cool Box',\n",
       " 'Keyless Entry',\n",
       " 'Air Conditioning',\n",
       " 'Rear Seat Entertainment',\n",
       " 'Immobilizer Key',\n",
       " 'Power Locks',\n",
       " 'Sun Roof',\n",
       " 'Cruise Control',\n",
       " 'Air Bags',\n",
       " 'Front Speakers',\n",
       " 'CD Player',\n",
       " 'Power Mirrors',\n",
       " 'Rear speakers',\n",
       " 'Steering Switches',\n",
       " 'Front Camera',\n",
       " 'Rear AC Vents',\n",
       " 'Cassette Player',\n",
       " 'Navigation System',\n",
       " 'Alloy Rims']"
      ]
     },
     "execution_count": 63,
     "metadata": {},
     "output_type": "execute_result"
    }
   ],
   "source": [
    "df.rename all_features"
   ]
  },
  {
   "cell_type": "code",
   "execution_count": 61,
   "metadata": {},
   "outputs": [
    {
     "data": {
      "text/plain": [
       "<AxesSubplot: title={'center': 'Feature importance'}, xlabel='Feature importance', ylabel='Features'>"
      ]
     },
     "execution_count": 61,
     "metadata": {},
     "output_type": "execute_result"
    },
    {
     "data": {
      "image/png": "[encoded data removed]",
      "text/plain": [
       "<Figure size 640x480 with 1 Axes>"
      ]
     },
     "metadata": {},
     "output_type": "display_data"
    }
   ],
   "source": [
    "lgb.plot_importance(m0)"
   ]
  },
  {
   "cell_type": "code",
   "execution_count": 62,
   "metadata": {},
   "outputs": [
    {
     "ename": "KeyError",
     "evalue": "'[\"KM\\'s_driven\", \\'USB_and_Auxillary_Cable\\', \\'AM/FM_Radio\\', \\'Heated_Seats\\', \\'Power_Steering\\', \\'Rear_Camera\\', \\'Climate_Control\\', \\'Power_Windows\\', \\'DVD_Player\\', \\'Cool_Box\\', \\'Keyless_Entry\\', \\'Air_Conditioning\\', \\'Rear_Seat_Entertainment\\', \\'Immobilizer_Key\\', \\'Power_Locks\\', \\'Sun_Roof\\', \\'Cruise_Control\\', \\'Air_Bags\\', \\'Front_Speakers\\', \\'CD_Player\\', \\'Power_Mirrors\\', \\'Rear_speakers\\', \\'Steering_Switches\\', \\'Front_Camera\\', \\'Rear_AC_Vents\\', \\'Cassette_Player\\', \\'Navigation_System\\', \\'Alloy_Rims\\'] not in index'",
     "output_type": "error",
     "traceback": [
      "\u001b[1;31m---------------------------------------------------------------------------\u001b[0m",
      "\u001b[1;31mKeyError\u001b[0m                                  Traceback (most recent call last)",
      "Cell \u001b[1;32mIn[62], line 1\u001b[0m\n\u001b[1;32m----> 1\u001b[0m pred_train \u001b[38;5;241m=\u001b[39m final_model[\u001b[38;5;124m'\u001b[39m\u001b[38;5;124mcvbooster\u001b[39m\u001b[38;5;124m'\u001b[39m]\u001b[38;5;241m.\u001b[39mpredict(\u001b[43mtrain_X\u001b[49m\u001b[43m[\u001b[49m\u001b[43mfinal_features\u001b[49m\u001b[43m]\u001b[49m)\n",
      "File \u001b[1;32mc:\\Users\\Lenovo\\AppData\\Local\\Programs\\Python\\Python311\\Lib\\site-packages\\pandas\\core\\frame.py:3811\u001b[0m, in \u001b[0;36mDataFrame.__getitem__\u001b[1;34m(self, key)\u001b[0m\n\u001b[0;32m   3809\u001b[0m     \u001b[38;5;28;01mif\u001b[39;00m is_iterator(key):\n\u001b[0;32m   3810\u001b[0m         key \u001b[38;5;241m=\u001b[39m \u001b[38;5;28mlist\u001b[39m(key)\n\u001b[1;32m-> 3811\u001b[0m     indexer \u001b[38;5;241m=\u001b[39m \u001b[38;5;28;43mself\u001b[39;49m\u001b[38;5;241;43m.\u001b[39;49m\u001b[43mcolumns\u001b[49m\u001b[38;5;241;43m.\u001b[39;49m\u001b[43m_get_indexer_strict\u001b[49m\u001b[43m(\u001b[49m\u001b[43mkey\u001b[49m\u001b[43m,\u001b[49m\u001b[43m \u001b[49m\u001b[38;5;124;43m\"\u001b[39;49m\u001b[38;5;124;43mcolumns\u001b[39;49m\u001b[38;5;124;43m\"\u001b[39;49m\u001b[43m)\u001b[49m[\u001b[38;5;241m1\u001b[39m]\n\u001b[0;32m   3813\u001b[0m \u001b[38;5;66;03m# take() does not accept boolean indexers\u001b[39;00m\n\u001b[0;32m   3814\u001b[0m \u001b[38;5;28;01mif\u001b[39;00m \u001b[38;5;28mgetattr\u001b[39m(indexer, \u001b[38;5;124m\"\u001b[39m\u001b[38;5;124mdtype\u001b[39m\u001b[38;5;124m\"\u001b[39m, \u001b[38;5;28;01mNone\u001b[39;00m) \u001b[38;5;241m==\u001b[39m \u001b[38;5;28mbool\u001b[39m:\n",
      "File \u001b[1;32mc:\\Users\\Lenovo\\AppData\\Local\\Programs\\Python\\Python311\\Lib\\site-packages\\pandas\\core\\indexes\\base.py:6113\u001b[0m, in \u001b[0;36mIndex._get_indexer_strict\u001b[1;34m(self, key, axis_name)\u001b[0m\n\u001b[0;32m   6110\u001b[0m \u001b[38;5;28;01melse\u001b[39;00m:\n\u001b[0;32m   6111\u001b[0m     keyarr, indexer, new_indexer \u001b[38;5;241m=\u001b[39m \u001b[38;5;28mself\u001b[39m\u001b[38;5;241m.\u001b[39m_reindex_non_unique(keyarr)\n\u001b[1;32m-> 6113\u001b[0m \u001b[38;5;28;43mself\u001b[39;49m\u001b[38;5;241;43m.\u001b[39;49m\u001b[43m_raise_if_missing\u001b[49m\u001b[43m(\u001b[49m\u001b[43mkeyarr\u001b[49m\u001b[43m,\u001b[49m\u001b[43m \u001b[49m\u001b[43mindexer\u001b[49m\u001b[43m,\u001b[49m\u001b[43m \u001b[49m\u001b[43maxis_name\u001b[49m\u001b[43m)\u001b[49m\n\u001b[0;32m   6115\u001b[0m keyarr \u001b[38;5;241m=\u001b[39m \u001b[38;5;28mself\u001b[39m\u001b[38;5;241m.\u001b[39mtake(indexer)\n\u001b[0;32m   6116\u001b[0m \u001b[38;5;28;01mif\u001b[39;00m \u001b[38;5;28misinstance\u001b[39m(key, Index):\n\u001b[0;32m   6117\u001b[0m     \u001b[38;5;66;03m# GH 42790 - Preserve name from an Index\u001b[39;00m\n",
      "File \u001b[1;32mc:\\Users\\Lenovo\\AppData\\Local\\Programs\\Python\\Python311\\Lib\\site-packages\\pandas\\core\\indexes\\base.py:6176\u001b[0m, in \u001b[0;36mIndex._raise_if_missing\u001b[1;34m(self, key, indexer, axis_name)\u001b[0m\n\u001b[0;32m   6173\u001b[0m     \u001b[38;5;28;01mraise\u001b[39;00m \u001b[38;5;167;01mKeyError\u001b[39;00m(\u001b[38;5;124mf\u001b[39m\u001b[38;5;124m\"\u001b[39m\u001b[38;5;124mNone of [\u001b[39m\u001b[38;5;132;01m{\u001b[39;00mkey\u001b[38;5;132;01m}\u001b[39;00m\u001b[38;5;124m] are in the [\u001b[39m\u001b[38;5;132;01m{\u001b[39;00maxis_name\u001b[38;5;132;01m}\u001b[39;00m\u001b[38;5;124m]\u001b[39m\u001b[38;5;124m\"\u001b[39m)\n\u001b[0;32m   6175\u001b[0m not_found \u001b[38;5;241m=\u001b[39m \u001b[38;5;28mlist\u001b[39m(ensure_index(key)[missing_mask\u001b[38;5;241m.\u001b[39mnonzero()[\u001b[38;5;241m0\u001b[39m]]\u001b[38;5;241m.\u001b[39munique())\n\u001b[1;32m-> 6176\u001b[0m \u001b[38;5;28;01mraise\u001b[39;00m \u001b[38;5;167;01mKeyError\u001b[39;00m(\u001b[38;5;124mf\u001b[39m\u001b[38;5;124m\"\u001b[39m\u001b[38;5;132;01m{\u001b[39;00mnot_found\u001b[38;5;132;01m}\u001b[39;00m\u001b[38;5;124m not in index\u001b[39m\u001b[38;5;124m\"\u001b[39m)\n",
      "\u001b[1;31mKeyError\u001b[0m: '[\"KM\\'s_driven\", \\'USB_and_Auxillary_Cable\\', \\'AM/FM_Radio\\', \\'Heated_Seats\\', \\'Power_Steering\\', \\'Rear_Camera\\', \\'Climate_Control\\', \\'Power_Windows\\', \\'DVD_Player\\', \\'Cool_Box\\', \\'Keyless_Entry\\', \\'Air_Conditioning\\', \\'Rear_Seat_Entertainment\\', \\'Immobilizer_Key\\', \\'Power_Locks\\', \\'Sun_Roof\\', \\'Cruise_Control\\', \\'Air_Bags\\', \\'Front_Speakers\\', \\'CD_Player\\', \\'Power_Mirrors\\', \\'Rear_speakers\\', \\'Steering_Switches\\', \\'Front_Camera\\', \\'Rear_AC_Vents\\', \\'Cassette_Player\\', \\'Navigation_System\\', \\'Alloy_Rims\\'] not in index'"
     ]
    }
   ],
   "source": [
    "pred_train = final_model['cvbooster'].predict(train_X[final_features])"
   ]
  }
 ],
 "metadata": {
  "kernelspec": {
   "display_name": "Python 3",
   "language": "python",
   "name": "python3"
  },
  "language_info": {
   "codemirror_mode": {
    "name": "ipython",
    "version": 3
   },
   "file_extension": ".py",
   "mimetype": "text/x-python",
   "name": "python",
   "nbconvert_exporter": "python",
   "pygments_lexer": "ipython3",
   "version": "3.11.1"
  }
 },
 "nbformat": 4,
 "nbformat_minor": 2
}
