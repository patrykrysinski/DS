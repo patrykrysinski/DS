{
 "cells": [
  {
   "cell_type": "markdown",
   "metadata": {},
   "source": [
    "# Price recommendation system for OLX cars announcements\n",
    "The aim of this work is to create machine learning model to suggest car price in announcements. \n",
    "The recommendation will help users based on information about vehicle to establish initial price.\n",
    "The source of the data is listed below:\n",
    "\n",
    "https://www.kaggle.com/datasets/abdullahkhanuet22/olx-cars-dataset\n",
    "\n",
    "## Load packages and data"
   ]
  },
  {
   "cell_type": "code",
   "execution_count": null,
   "metadata": {},
   "outputs": [],
   "source": [
    "import pandas as pd \n",
    "import numpy as np \n",
    "import os \n",
    "import matplotlib.pyplot as plt\n",
    "import seaborn as sns\n",
    "import plotly.express as px\n",
    "from functions import kaggle_download, barplot_share, info_splitter, calc_split_summary, bubble_plot\n",
    "import lightgbm as lgb \n",
    "import optuna\n",
    "seed=123"
   ]
  },
  {
   "cell_type": "code",
   "execution_count": null,
   "metadata": {},
   "outputs": [],
   "source": [
    "optuna.create_study().optimize(n)"
   ]
  },
  {
   "cell_type": "code",
   "execution_count": null,
   "metadata": {},
   "outputs": [],
   "source": [
    "kaggle_download(user='abdullahkhanuet22',dataset='olx-cars-dataset')"
   ]
  },
  {
   "cell_type": "code",
   "execution_count": null,
   "metadata": {},
   "outputs": [],
   "source": [
    "data = pd.read_csv('OLX_cars_dataset.csv')"
   ]
  },
  {
   "cell_type": "markdown",
   "metadata": {},
   "source": [
    "## Data understanding\n",
    "The first step is to take a brief look at data and evaluate it."
   ]
  },
  {
   "cell_type": "code",
   "execution_count": null,
   "metadata": {},
   "outputs": [],
   "source": [
    "data.info()"
   ]
  },
  {
   "cell_type": "markdown",
   "metadata": {},
   "source": [
    "- Dataset cointains 8721 records which is not bad for the excercises purpose. \n",
    "- It doesn't contain any blanks. \n",
    "- Most of the variables are strings/ categorical.\n",
    "- Only Price (which is target to the model), year of production and kilometers driven (KM's driven) are integer.\n",
    "- It would be hard to use model with year as a variable, that's why new variable 'Age' of the car will be calculated (in years). There is no information what was the date of collecting the data, so it is calculated based on the most current year in the dataset which is 2024."
   ]
  },
  {
   "cell_type": "code",
   "execution_count": null,
   "metadata": {},
   "outputs": [],
   "source": [
    "data['Age'] = data['Year'].max() - data['Year']"
   ]
  },
  {
   "cell_type": "markdown",
   "metadata": {},
   "source": [
    "## Categorical variables analysis\n",
    "The most typical categorical features are name / model of the car and make.\n",
    "\n",
    "Car name has a lot of different values, so it is not taking under consideration for now.\n",
    "\n",
    "The first variable to analyze is make."
   ]
  },
  {
   "cell_type": "code",
   "execution_count": null,
   "metadata": {},
   "outputs": [],
   "source": [
    "data['Car Name'].value_counts()"
   ]
  },
  {
   "cell_type": "markdown",
   "metadata": {},
   "source": [
    "### 'Make' variable"
   ]
  },
  {
   "cell_type": "code",
   "execution_count": null,
   "metadata": {},
   "outputs": [],
   "source": [
    "data['Make'].value_counts()"
   ]
  },
  {
   "cell_type": "markdown",
   "metadata": {},
   "source": [
    "There are 11 different makes, some of them need to be marged because of being sparse.\n",
    "To merged that correctly - similarity analysis is conducted below. "
   ]
  },
  {
   "cell_type": "code",
   "execution_count": null,
   "metadata": {},
   "outputs": [],
   "source": [
    "bubble_plot(df=data,x='Price',y='Age',ids_col = 'Ad ID',groupper = 'Make',list_to_change_location=['Chevrolet'],agg_func = np.mean)"
   ]
  },
  {
   "cell_type": "code",
   "execution_count": null,
   "metadata": {},
   "outputs": [],
   "source": [
    "prices = data.groupby('Make').agg({'Price':np.mean,'Age': np.mean ,'Ad ID': np.size}).rename({'Ad ID': 'No of ads'},axis=1).reset_index()\n",
    "prices['Age'] = np.round(prices['Age'])\n",
    "prices"
   ]
  },
  {
   "cell_type": "code",
   "execution_count": null,
   "metadata": {},
   "outputs": [],
   "source": [
    "text_pos = ['top center' if i !='Chevrolet' else 'bottom center' for i in prices['Make'] ]\n",
    "fig = px.scatter(prices, x='Price',y='Age',size='No of ads',text='Make')\n",
    "fig.update_traces(textposition=text_pos)\n",
    "fig.update_layout(\n",
    "    title_text=\"Cars' Price and Age by make\"\n",
    ")\n",
    "fig.show()"
   ]
  },
  {
   "cell_type": "code",
   "execution_count": null,
   "metadata": {},
   "outputs": [],
   "source": [
    "prices = data.groupby('Make').agg({'Price':np.median,'Age': np.median ,'Ad ID': np.size}).rename({'Ad ID': 'No of ads'},axis=1).reset_index()\n",
    "prices['Age'] = np.round(prices['Age'])\n",
    "prices['Share of make'] =  np.round(prices['No of ads']/ prices['No of ads'].sum(),3)\n",
    "text_pos = ['top center' if i !='Chevrolet' else 'bottom center' for i in prices['Make'] ]\n",
    "fig = px.scatter(prices, x='Price',y='Age',size='No of ads',text='Make')\n",
    "fig.update_traces(textposition=text_pos)\n",
    "fig.update_layout(\n",
    "    title_text=\"Cars' Price and Age by make\"\n",
    ")\n",
    "fig.show()"
   ]
  },
  {
   "cell_type": "code",
   "execution_count": null,
   "metadata": {},
   "outputs": [],
   "source": [
    "barplot_share(data, 'Make')"
   ]
  },
  {
   "cell_type": "markdown",
   "metadata": {},
   "source": [
    "Based on above plots there is a need to merge some make to have bigger group.\n",
    "There will be two methods provided:\n",
    "1. The makes with number of ads lower than 3% will be merged to one group.\n",
    "2. The makes with share <3% will be group according to average price and age:\n",
    "    - Mercedes and Changan will be group with Toyota (the closest average price).\n",
    "    - Chevrolet, Hyundai and FAW will be grouped with Suzuki (the closest average price)\n",
    "    - Mitshubishi and KIA will be merged to one group (the closest average price and age).\n"
   ]
  },
  {
   "cell_type": "code",
   "execution_count": null,
   "metadata": {},
   "outputs": [],
   "source": [
    "makes_less_3_prct = prices.loc[prices['Share of make']<0.03,'Make'].values\n",
    "makes_less_3_prct"
   ]
  },
  {
   "cell_type": "code",
   "execution_count": null,
   "metadata": {},
   "outputs": [],
   "source": [
    "data['make_new_1'] = data.loc[:,'Make'].apply(lambda x: 'Others' if x in makes_less_3_prct  else x)"
   ]
  },
  {
   "cell_type": "code",
   "execution_count": null,
   "metadata": {},
   "outputs": [],
   "source": [
    "barplot_share(data, 'make_new_1')"
   ]
  },
  {
   "cell_type": "markdown",
   "metadata": {},
   "source": [
    "##### Version 2"
   ]
  },
  {
   "cell_type": "code",
   "execution_count": null,
   "metadata": {},
   "outputs": [],
   "source": [
    "group_1 = ['Mercedes', 'Changan','Toyota']\n",
    "group_2 = ['Chevrolet', 'Hyundai',  'FAW', 'Suzuki']\n",
    "group_3 = ['Mitsubishi', 'KIA']\n",
    "\n",
    "#data['make_new_2'] = np.where(data['Make'].isin(group_1),'Merc_chang_toy',np.where(data['Make'].isin(group_2), ))"
   ]
  },
  {
   "cell_type": "code",
   "execution_count": null,
   "metadata": {},
   "outputs": [],
   "source": [
    "data['make_new_2'] = np.select([data['Make'].isin(group_1),\n",
    "                                data['Make'].isin(group_2),\n",
    "                                data['Make'].isin(group_3)],['Merc_chang_toy','chev_huy_faw_suz','mits_kia'], default=data['Make'])"
   ]
  },
  {
   "cell_type": "code",
   "execution_count": null,
   "metadata": {},
   "outputs": [],
   "source": [
    "barplot_share(data, 'make_new_2')"
   ]
  },
  {
   "cell_type": "markdown",
   "metadata": {},
   "source": [
    "At first step let's model optimization allow to choose better variable"
   ]
  },
  {
   "cell_type": "markdown",
   "metadata": {},
   "source": [
    "### Categorical Features"
   ]
  },
  {
   "cell_type": "code",
   "execution_count": null,
   "metadata": {},
   "outputs": [],
   "source": [
    "columns = ['Fuel','Registration city',\n",
    "'Car documents',\n",
    "'Assembly',\n",
    "'Transmission' ,\n",
    "'Condition',\n",
    "'Seller Location' ]"
   ]
  },
  {
   "cell_type": "markdown",
   "metadata": {},
   "source": [
    "Based on below summary variables Fuel, Assembly, Registration city and Transmission can be used."
   ]
  },
  {
   "cell_type": "code",
   "execution_count": null,
   "metadata": {},
   "outputs": [],
   "source": [
    "for col in columns:\n",
    "    print(data[col].value_counts())\n",
    "    print('################\\n')"
   ]
  },
  {
   "cell_type": "code",
   "execution_count": null,
   "metadata": {},
   "outputs": [],
   "source": [
    "columns = ['Fuel',\n",
    "'Assembly',\n",
    "'Transmission' ,\n",
    "]"
   ]
  },
  {
   "cell_type": "code",
   "execution_count": null,
   "metadata": {},
   "outputs": [],
   "source": [
    "for col in columns:\n",
    "    print(data[col].value_counts())\n",
    "    print('################\\n')"
   ]
  },
  {
   "cell_type": "markdown",
   "metadata": {},
   "source": [
    "For fuel variable Only 'petrol' value is significant high, so the variable will be changed to true/false variable (is petrol?)"
   ]
  },
  {
   "cell_type": "code",
   "execution_count": null,
   "metadata": {},
   "outputs": [],
   "source": [
    "data['is_petrol'] = data['Fuel'] =='Petrol'"
   ]
  },
  {
   "cell_type": "code",
   "execution_count": null,
   "metadata": {},
   "outputs": [],
   "source": [
    "barplot_share(data, 'is_petrol')"
   ]
  },
  {
   "cell_type": "markdown",
   "metadata": {},
   "source": [
    "Only 2% of cases are not Petrol fuel, so there is a risk to use this variable in the model."
   ]
  },
  {
   "cell_type": "markdown",
   "metadata": {},
   "source": [
    "#### \n",
    "Make - to leave for later - many values"
   ]
  },
  {
   "cell_type": "code",
   "execution_count": null,
   "metadata": {},
   "outputs": [],
   "source": [
    "reg_city = data['Registration city'].value_counts() / data.shape[0] <0.03\n",
    "big_cities=  reg_city[reg_city== False].index\n",
    "data['registration_city'] = np.where(data['Registration city'].isin(big_cities),data['Registration city'],'Other')"
   ]
  },
  {
   "cell_type": "code",
   "execution_count": null,
   "metadata": {},
   "outputs": [],
   "source": [
    "barplot_share(data, 'registration_city')"
   ]
  },
  {
   "cell_type": "code",
   "execution_count": null,
   "metadata": {},
   "outputs": [],
   "source": [
    "barplot_share(data, 'Assembly')"
   ]
  },
  {
   "cell_type": "code",
   "execution_count": null,
   "metadata": {},
   "outputs": [],
   "source": [
    "barplot_share(data, 'Transmission')"
   ]
  },
  {
   "cell_type": "markdown",
   "metadata": {},
   "source": [
    "### Check categorical variables relation with price\n",
    "Correlation between categorical and numeric variable can be confusing. That is why in the first step average price within groups will be checked."
   ]
  },
  {
   "cell_type": "code",
   "execution_count": null,
   "metadata": {},
   "outputs": [],
   "source": [
    "columns = ['make_new_1', 'make_new_2' , 'is_petrol', 'Assembly', 'registration_city' , 'Transmission']"
   ]
  },
  {
   "cell_type": "code",
   "execution_count": null,
   "metadata": {},
   "outputs": [],
   "source": [
    "for col in columns:\n",
    "    df_to_plot = data[[col,'Price']].groupby(col).mean().reset_index().sort_values(by='Price',ascending=False)\n",
    "    fig = px.bar(data_frame=df_to_plot, x=col, y='Price',title=f'Average Price by {col}')\n",
    "    fig.show()"
   ]
  },
  {
   "cell_type": "markdown",
   "metadata": {},
   "source": [
    "All of the variables have impact on price. To make a second check distribution plot will be made for variables with two values."
   ]
  },
  {
   "cell_type": "code",
   "execution_count": null,
   "metadata": {},
   "outputs": [],
   "source": [
    "columns_short = [ 'is_petrol', 'Assembly', 'Transmission']"
   ]
  },
  {
   "cell_type": "code",
   "execution_count": null,
   "metadata": {},
   "outputs": [],
   "source": [
    "for col in columns_short:\n",
    "    fig = px.histogram(data_frame=data,x='Price',color=col, marginal=\"box\",histnorm='probability', title=f'Price Histogram by {col}')\n",
    "    fig.update_traces(opacity=0.75)\n",
    "    fig.update_layout(barmode='overlay')\n",
    "    fig.show()"
   ]
  },
  {
   "cell_type": "markdown",
   "metadata": {},
   "source": [
    "Above plots show histograms and box plots by subgroups (defined by chosen 0/1 variables). Box plots highlight differences of average and quartiles in each group. The minimum and maximum are the closest for assembly. \n",
    "Each value hase higher predictive power if histograms are more separate which can be seen the most in transmition variable."
   ]
  },
  {
   "cell_type": "markdown",
   "metadata": {},
   "source": [
    "#### Car feaures\n",
    "There is one more, interesting variable - car features. Unlikely, all features are stored in one column. Split to separate columns will be provided."
   ]
  },
  {
   "cell_type": "code",
   "execution_count": null,
   "metadata": {},
   "outputs": [],
   "source": [
    "data, all_features = info_splitter(data, 'Car Features',split = ', ')"
   ]
  },
  {
   "cell_type": "code",
   "execution_count": null,
   "metadata": {},
   "outputs": [],
   "source": [
    "for feat in all_features:\n",
    "    print(data[feat].value_counts())\n",
    "    print('##############\\n')"
   ]
  },
  {
   "cell_type": "code",
   "execution_count": null,
   "metadata": {},
   "outputs": [],
   "source": [
    "all_diff = []\n",
    "min_no_of_rec = []\n",
    "for feat in all_features:\n",
    "    agg = data[[feat,'Price','Ad ID']].groupby(feat).agg({'Price':np.mean, 'Ad ID':np.size}).rename({'Ad ID': 'no of records'}, axis=1)\n",
    "    min_no_of_rec.append(agg['no of records'].min())\n",
    "    diff = round(agg.loc[1,'Price'] / agg.loc[0,'Price'] * 100)\n",
    "    all_diff.append(diff)\n",
    "    print(agg)\n",
    "    print(f\" Difference between value 1 and 0 equals to: {diff}%\")\n",
    "    print('##############\\n')"
   ]
  },
  {
   "cell_type": "code",
   "execution_count": null,
   "metadata": {},
   "outputs": [],
   "source": [
    "all_diff_df = pd.DataFrame(data=all_diff, index = all_features, columns=['diff %'])\n",
    "all_diff_df['smaller cat cases'] = min_no_of_rec\n",
    "all_diff_df.sort_values(by='diff %')"
   ]
  },
  {
   "cell_type": "markdown",
   "metadata": {},
   "source": [
    "Minimum sample of smaller category in each car features is grater than 500, so all can be used. What is more all of them differentiate average price. Before final decision of which of them should be used in the model, median will be evaluated."
   ]
  },
  {
   "cell_type": "code",
   "execution_count": null,
   "metadata": {},
   "outputs": [],
   "source": [
    "all_diff = []\n",
    "min_no_of_rec = []\n",
    "for feat in all_features:\n",
    "    agg = data[[feat,'Price','Ad ID']].groupby(feat).agg({'Price':np.median, 'Ad ID':np.size}).rename({'Ad ID': 'no of records'}, axis=1)\n",
    "    min_no_of_rec.append(agg['no of records'].min())\n",
    "    diff = round(agg.loc[1,'Price'] / agg.loc[0,'Price'] * 100)\n",
    "    all_diff.append(diff)\n",
    "    print(agg)\n",
    "    print(f\" Difference between value 1 and 0 equals to: {diff}%\")\n",
    "    print('##############\\n')"
   ]
  },
  {
   "cell_type": "code",
   "execution_count": null,
   "metadata": {},
   "outputs": [],
   "source": [
    "all_diff_df = pd.DataFrame(data=all_diff, index = all_features, columns=['diff %'])\n",
    "all_diff_df['smaller cat cases'] = min_no_of_rec\n",
    "all_diff_df.sort_values(by='diff %')"
   ]
  },
  {
   "cell_type": "markdown",
   "metadata": {},
   "source": [
    "The differences in median are slighlty higher than for average. In the first step all of these features will be used and after first optimization the worst variables will be excluded."
   ]
  },
  {
   "cell_type": "markdown",
   "metadata": {},
   "source": [
    "### Numerical features"
   ]
  },
  {
   "cell_type": "code",
   "execution_count": null,
   "metadata": {},
   "outputs": [],
   "source": [
    "numerical_features = [\"KM's driven\",\"Age\",\"Price\"]"
   ]
  },
  {
   "cell_type": "code",
   "execution_count": null,
   "metadata": {},
   "outputs": [],
   "source": [
    "sns.heatmap(data[numerical_features].corr(),annot=True)\n",
    "plt.title('Correlation matrix for numerical features')\n",
    "plt.show()"
   ]
  },
  {
   "cell_type": "code",
   "execution_count": null,
   "metadata": {},
   "outputs": [],
   "source": [
    "sns.pairplot(data[numerical_features])\n",
    "plt.show()"
   ]
  },
  {
   "cell_type": "markdown",
   "metadata": {},
   "source": [
    "Above plots show the logical relation between age of the car and price. The kilometers made by the car has much lower impact on price. Scatter plot for 8000 cases can be confusing and is only additional information - small trend in both - Age and KM's driven and Price can be seen. Histograms indicate good number of cases for all ranges of the variables. Lack of cases above 25 years and 300 000 km should be higlihted. Exact number will be checked - it is important to not use the model for cases above that values, especially for Age. "
   ]
  },
  {
   "cell_type": "code",
   "execution_count": null,
   "metadata": {},
   "outputs": [],
   "source": [
    "data[numerical_features].describe()"
   ]
  },
  {
   "cell_type": "markdown",
   "metadata": {},
   "source": [
    "Maximum value for Age is equal to 35 and for KM's driven approximetaly 530 000. However there is no enough data point around that points to use them in the final solution. Additional quantiles will be checked."
   ]
  },
  {
   "cell_type": "code",
   "execution_count": null,
   "metadata": {},
   "outputs": [],
   "source": [
    "data[numerical_features].quantile([0.95,0.98,0.99])"
   ]
  },
  {
   "cell_type": "markdown",
   "metadata": {},
   "source": [
    "The recommender system shouldn't be used for cars with Age>23 (0.98 quantile) and KM's driven >250 000."
   ]
  },
  {
   "cell_type": "code",
   "execution_count": null,
   "metadata": {},
   "outputs": [],
   "source": [
    "data.to_csv('olx_cars_adjusted.csv')"
   ]
  }
 ],
 "metadata": {
  "kernelspec": {
   "display_name": "Python 3",
   "language": "python",
   "name": "python3"
  },
  "language_info": {
   "codemirror_mode": {
    "name": "ipython",
    "version": 3
   },
   "file_extension": ".py",
   "mimetype": "text/x-python",
   "name": "python",
   "nbconvert_exporter": "python",
   "pygments_lexer": "ipython3",
   "version": "3.11.1"
  }
 },
 "nbformat": 4,
 "nbformat_minor": 2
}
